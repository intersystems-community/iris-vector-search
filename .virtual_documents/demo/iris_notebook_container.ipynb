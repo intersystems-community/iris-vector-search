


# !docker pull containers.intersystems.com/intersystems/iris-community:2024.1
!docker pull intersystems/iris-community:2024.3



from testcontainers.iris import IRISContainer
import os

image = 'intersystems/iris-community:2024.3'
container = IRISContainer(image, username="demo", password="demo", namespace="demo")
container.with_exposed_ports(1972, 52773)
container.start()
CONNECTION_STRING = container.get_connection_url(os.getenv("IRIS_HOSTNAME","localhost"))



print(CONNECTION_STRING)






