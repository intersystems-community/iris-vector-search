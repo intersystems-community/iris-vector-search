





username = 'SQLAdmin'
password = '...'
hostname = '...'
port = 443 
namespace = 'USER'





import intersystems_iris as iris
import ssl

# change this to wherever you copied your certificate to
certificateFile = "/usr/cert-demo/certificateSQLaaS.pem"
sslcontext = ssl.create_default_context(cafile=certificateFile)

connection = iris.connect( hostname, port, namespace, username, password, sslcontext = sslcontext )
cursor = connection.cursor()

cursor.execute("SELECT 'hello secure world!'")
cursor.fetchone()[0]





import pandas as pd

# Load the CSV file
df = pd.read_csv('../data/scotch_review.csv')
df.head()


# Clean data
# Remove the specified columns
df.drop(['currency'], axis=1, inplace=True)

# Drop the first column
df.drop(columns=df.columns[0], inplace=True)

# Remove rows without a price
df.dropna(subset=['price'], inplace=True)

# Ensure values in 'price' are numbers
df = df[pd.to_numeric(df['price'], errors='coerce').notna()]

# Replace NaN values in other columns with an empty string
df.fillna('', inplace=True)

df.head()


from sentence_transformers import SentenceTransformer

# Load a pre-trained sentence transformer model. This model's output vectors are of size 384
model = SentenceTransformer('all-MiniLM-L6-v2') 

# Generate embeddings for all descriptions at once. Batch processing makes it faster
embeddings = model.encode(df['description'].tolist(), normalize_embeddings=True)

# Add the embeddings to the DataFrame
df['description_vector'] = embeddings.tolist()

df.head()





cursor.execute('DROP TABLE IF EXISTS scotch_reviews')
cursor.execute(f"""CREATE TABLE scotch_reviews (
                    name VARCHAR(255),
                    category VARCHAR(255),
                    review_point INT,
                    price DOUBLE,
                    description VARCHAR(2000),
                    description_vector VECTOR(FLOAT, 384)
                )""")

seq = []
for index, row in df.iterrows():
    seq.append((row['name'], row['category'], row['review.point'], row['price'], row['description'], str(row['description_vector'])))

success = cursor.executemany("INSERT INTO scotch_reviews (name, category, review_point, price, description, description_vector) VALUES (?, ?, ?, ?, ?, TO_VECTOR(?))", seq)



description_search = "earthy and creamy taste"
search_vector = model.encode(description_search, normalize_embeddings=True).tolist() # Convert search phrase into a vector

cursor.execute("""
            SELECT TOP 3 * FROM scotch_reviews 
            WHERE price < 100 
            ORDER BY VECTOR_DOT_PRODUCT(description_vector, TO_VECTOR(?)) DESC
        """, [str(search_vector)])

print(cursor.fetchall())
