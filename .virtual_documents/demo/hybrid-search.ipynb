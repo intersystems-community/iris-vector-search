


import os, pandas as pd
from sqlalchemy import create_engine, text

username = 'demo'
password = 'demo'
hostname = os.getenv('IRIS_HOSTNAME', 'localhost')
port = '1972' 
namespace = 'USER'
CONNECTION_STRING = f"iris://{username}:{password}@{hostname}:{port}/{namespace}"

engine = create_engine(CONNECTION_STRING)
connection = engine.connect()





res = connection.execute(text("""CREATE INDEX ifind ON scotch_reviews(description) AS %iFind.Index.Basic"""))








from sentence_transformers import SentenceTransformer

model = SentenceTransformer('all-MiniLM-L6-v2') 
search_vector = model.encode("vanilla", normalize_embeddings=True).tolist()





sql = text("""
    WITH 
    
    filtered AS (
       SELECT %ID AS ID, * FROM scotch_reviews
       WHERE %ID %FIND search_index(ifind, 'vanilla')
    ),
    
    scored AS (
       SELECT name, category, description,
          scotchreviews_ifindrank(ID, 'vanilla') AS IFindScore,
          vector_cosine(description_vector, TO_VECTOR(:search_vec ,FLOAT)) AS VectorScore
       FROM filtered
    ), 
    
    with_rank AS (
       SELECT *,
          RANK() OVER (ORDER BY IFindScore DESC) AS IFindRank,
          RANK() OVER (ORDER BY VectorScore DESC) AS VectorRank
       FROM scored
    ),

    -- using k = 10
    full_score AS (
        SELECT *, (1/(IFindRank + 10) + 1/(VectorRank + 10)) AS Score
        FROM with_rank
    )
    
    SELECT TOP 10 * 
    FROM full_score 
    ORDER BY Score desc""")

# alternatively, you can filter using vector similarity search:
#    filtered AS (
#        SELECT TOP 100 %ID AS ID, * FROM scotch_reviews
#        ORDER BY vector_cosine(description_vector, TO_VECTOR(:search_vec ,FLOAT)) DESC
#    ),

result = connection.execute(sql, { "search_vec": str(search_vector) }).fetchall()
df = pd.DataFrame(result)
pd.set_option('display.max_colwidth', None)  # Easier to read description
df.head()






