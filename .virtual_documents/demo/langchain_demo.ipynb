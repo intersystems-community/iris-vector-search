





import os

username = 'demo'
password = 'demo'
hostname = os.getenv('IRIS_HOSTNAME', 'localhost')
port = 1972 
namespace = 'USER'





import ssl

certificateFile = "/usr/cert-demo/certificateSQLaaS.pem"

if (os.path.exists(certificateFile)):
    print("Located SSL certficate at '%s', initializing SSL configuration", certificateFile)
    sslcontext = ssl.create_default_context(cafile=certificateFile)
else:
    print("No certificate file found, continuing with insecure connection")
    sslcontext = None


from sqlalchemy import create_engine, text

url = f"iris://{username}:{password}@{hostname}:{port}/{namespace}"
engine = create_engine(url, connect_args={"sslcontext": sslcontext})
with engine.connect() as conn:
    print(conn.execute(text("SELECT 'hello world!'")).first()[0])





from langchain.docstore.document import Document
from langchain.document_loaders import TextLoader
from langchain.text_splitter import CharacterTextSplitter

loader = TextLoader("../data/state_of_the_union.txt", encoding='utf-8')
documents = loader.load()
text_splitter = CharacterTextSplitter(chunk_size=400, chunk_overlap=20)
docs = text_splitter.split_documents(documents)





import getpass
import os
from dotenv import load_dotenv

load_dotenv(override=True)

if "OPENAI_API_KEY" in os.environ:
    os.environ.pop("OPENAI_API_KEY")

if not os.environ.get("OPENAI_API_KEY"): 
    os.environ["OPENAI_API_KEY"] = getpass.getpass("OpenAI API Key:")






from langchain.embeddings.openai import OpenAIEmbeddings
from langchain.embeddings import HuggingFaceEmbeddings
from langchain.embeddings import FakeEmbeddings
from langchain.embeddings.fastembed import FastEmbedEmbeddings

from langchain_iris import IRISVector

db = IRISVector.from_documents(
    embedding = OpenAIEmbeddings(), 
    # embedding = HuggingFaceEmbeddings(model_name="all-MiniLM-L6-v2"),
    # embedding = FastEmbeddings(),
    # embedding = FakeEmbeddings(size=123),
    documents = docs,
    collection_name = "state_of_the_union_test",
    connection_string = f"iris://{username}:{password}@{hostname}:{port}/{namespace}",
    engine_args = { "connect_args": {"sslcontext": sslcontext} }
)

print(f"Number of docs in vector store: {len(db.get()['ids'])}")





query = "Joint patrols to catch traffickers"
docs_with_score = db.similarity_search_with_score(query)

for doc, score in docs_with_score:
    print("-" * 80)
    print("Score: ", score)
    print(doc.page_content)
    print("-" * 80)


db.add_documents([Document(page_content="dog")])
docs_with_score = db.similarity_search_with_score("dog")
docs_with_score[0]



